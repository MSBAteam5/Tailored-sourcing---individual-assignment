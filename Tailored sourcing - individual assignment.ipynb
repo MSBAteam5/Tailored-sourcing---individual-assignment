{
 "cells": [
  {
   "cell_type": "code",
   "execution_count": 1,
   "id": "8009b7a9-08ea-47fe-8fef-e3e701570c3f",
   "metadata": {},
   "outputs": [],
   "source": [
    "import numpy as np\n",
    "import pandas as pd"
   ]
  },
  {
   "cell_type": "code",
   "execution_count": 3,
   "id": "0df49741-5b42-4831-8c49-73fd76340f27",
   "metadata": {},
   "outputs": [],
   "source": [
    "# Given data\n",
    "data = pd.DataFrame({\n",
    "    'Product': [1, 2, 3, 4],\n",
    "    'Demand': [1000, 300, 50, 50],\n",
    "    'Ordering_Cost': [20, 50, 50, 50],\n",
    "    'Unit_Cost': [50, 50, 30, 30],\n",
    "    'Holding_Cost_Rate': [0.15, 0.15, 0.15, 0.15]\n",
    "})"
   ]
  },
  {
   "cell_type": "code",
   "execution_count": 5,
   "id": "36d802fe-9746-44ef-a7ed-3623589d38ee",
   "metadata": {},
   "outputs": [],
   "source": [
    "# Strategy 1 - Independent EOQ\n",
    "data['EOQ_Independent'] = np.sqrt((2 * data['Demand'] * data['Ordering_Cost']) / (data['Unit_Cost'] * data['Holding_Cost_Rate']))"
   ]
  },
  {
   "cell_type": "code",
   "execution_count": 7,
   "id": "4040bfa3-dea8-47dd-a7a9-1e16aa6ded47",
   "metadata": {},
   "outputs": [],
   "source": [
    "# Strategy 2 - All products ordered with the same frequency\n",
    "total_demand_cost = (data['Demand'] * data['Unit_Cost']).sum()\n",
    "total_ordering_cost = data['Ordering_Cost'].sum()\n",
    "total_holding_cost_rate = (data['Unit_Cost'] * data['Holding_Cost_Rate']).sum()\n",
    "EOQ_same_freq = np.sqrt((2 * total_ordering_cost * data['Demand'].sum()) / total_holding_cost_rate)\n",
    "data['EOQ_Same_Frequency'] = EOQ_same_freq"
   ]
  },
  {
   "cell_type": "code",
   "execution_count": 9,
   "id": "26034bf3-9530-4b7a-b9f1-65f1acb72b6d",
   "metadata": {},
   "outputs": [],
   "source": [
    "# Strategy 3 - Tailored Aggregation\n",
    "common_ordering_cost_shared = 150  # given common cost"
   ]
  },
  {
   "cell_type": "code",
   "execution_count": 11,
   "id": "14b63684-786c-467f-8251-2b8dc83b24ce",
   "metadata": {},
   "outputs": [],
   "source": [
    "data['EOQ_Tailored'] = np.sqrt(\n",
    "    (2 * data['Demand'] * (data['Ordering_Cost'] + common_ordering_cost_shared)) /\n",
    "    (data['Unit_Cost'] * data['Holding_Cost_Rate'])\n",
    ")"
   ]
  },
  {
   "cell_type": "code",
   "execution_count": 13,
   "id": "ef216475-bf25-4357-af8f-8bc21908997e",
   "metadata": {},
   "outputs": [
    {
     "name": "stdout",
     "output_type": "stream",
     "text": [
      "   Product  Demand  EOQ_Independent  EOQ_Same_Frequency  EOQ_Tailored\n",
      "0        1    1000        73.029674          140.830868    212.916259\n",
      "1        2     300        63.245553          140.830868    126.491106\n",
      "2        3      50        33.333333          140.830868     66.666667\n",
      "3        4      50        33.333333          140.830868     66.666667\n"
     ]
    }
   ],
   "source": [
    "# Display results\n",
    "print(data[['Product', 'Demand', 'EOQ_Independent', 'EOQ_Same_Frequency', 'EOQ_Tailored']])"
   ]
  }
 ],
 "metadata": {
  "kernelspec": {
   "display_name": "Python 3 (ipykernel)",
   "language": "python",
   "name": "python3"
  },
  "language_info": {
   "codemirror_mode": {
    "name": "ipython",
    "version": 3
   },
   "file_extension": ".py",
   "mimetype": "text/x-python",
   "name": "python",
   "nbconvert_exporter": "python",
   "pygments_lexer": "ipython3",
   "version": "3.12.4"
  }
 },
 "nbformat": 4,
 "nbformat_minor": 5
}
